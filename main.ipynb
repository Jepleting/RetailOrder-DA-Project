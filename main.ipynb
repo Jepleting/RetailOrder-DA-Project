{
 "cells": [
  {
   "cell_type": "code",
   "execution_count": 5,
   "id": "5296d5dc-7513-46c3-b0c9-262b4afcb772",
   "metadata": {},
   "outputs": [
    {
     "name": "stdout",
     "output_type": "stream",
     "text": [
      "Collecting kaggle\n",
      "  Using cached kaggle-1.6.14.tar.gz (82 kB)\n",
      "  Preparing metadata (setup.py): started\n",
      "  Preparing metadata (setup.py): finished with status 'done'\n",
      "Requirement already satisfied: six>=1.10 in c:\\users\\jeple\\appdata\\roaming\\python\\python312\\site-packages (from kaggle) (1.16.0)\n",
      "Requirement already satisfied: certifi>=2023.7.22 in c:\\users\\jeple\\appdata\\roaming\\python\\python312\\site-packages (from kaggle) (2024.2.2)\n",
      "Requirement already satisfied: python-dateutil in c:\\users\\jeple\\appdata\\roaming\\python\\python312\\site-packages (from kaggle) (2.9.0.post0)\n",
      "Requirement already satisfied: requests in c:\\users\\jeple\\appdata\\roaming\\python\\python312\\site-packages (from kaggle) (2.32.2)\n",
      "Requirement already satisfied: tqdm in c:\\users\\jeple\\appdata\\roaming\\python\\python312\\site-packages (from kaggle) (4.66.4)\n",
      "Collecting python-slugify (from kaggle)\n",
      "  Using cached python_slugify-8.0.4-py2.py3-none-any.whl.metadata (8.5 kB)\n",
      "Requirement already satisfied: urllib3 in c:\\users\\jeple\\appdata\\roaming\\python\\python312\\site-packages (from kaggle) (2.2.1)\n",
      "Requirement already satisfied: bleach in c:\\users\\jeple\\appdata\\roaming\\jupyterlab-desktop\\jlab_server\\lib\\site-packages (from kaggle) (6.1.0)\n",
      "Requirement already satisfied: webencodings in c:\\users\\jeple\\appdata\\roaming\\jupyterlab-desktop\\jlab_server\\lib\\site-packages (from bleach->kaggle) (0.5.1)\n",
      "Collecting text-unidecode>=1.3 (from python-slugify->kaggle)\n",
      "  Using cached text_unidecode-1.3-py2.py3-none-any.whl.metadata (2.4 kB)\n",
      "Requirement already satisfied: charset-normalizer<4,>=2 in c:\\users\\jeple\\appdata\\roaming\\python\\python312\\site-packages (from requests->kaggle) (3.3.2)\n",
      "Requirement already satisfied: idna<4,>=2.5 in c:\\users\\jeple\\appdata\\roaming\\python\\python312\\site-packages (from requests->kaggle) (3.7)\n",
      "Requirement already satisfied: colorama in c:\\users\\jeple\\appdata\\roaming\\python\\python312\\site-packages (from tqdm->kaggle) (0.4.6)\n",
      "Using cached python_slugify-8.0.4-py2.py3-none-any.whl (10 kB)\n",
      "Using cached text_unidecode-1.3-py2.py3-none-any.whl (78 kB)\n",
      "Building wheels for collected packages: kaggle\n",
      "  Building wheel for kaggle (setup.py): started\n",
      "  Building wheel for kaggle (setup.py): finished with status 'done'\n",
      "  Created wheel for kaggle: filename=kaggle-1.6.14-py3-none-any.whl size=105130 sha256=b2b16c49729a44f0283c7e81b593c743a6ead9f42f3c090c8d9434db84714e8a\n",
      "  Stored in directory: c:\\users\\jeple\\appdata\\local\\pip\\cache\\wheels\\89\\bc\\52\\0d140fc172783e1e72e3af4dfc13015dc154527fafb95e65cd\n",
      "Successfully built kaggle\n",
      "Installing collected packages: text-unidecode, python-slugify, kaggle\n",
      "Successfully installed kaggle-1.6.14 python-slugify-8.0.4 text-unidecode-1.3\n"
     ]
    }
   ],
   "source": [
    "\n",
    "!pip install kaggle"
   ]
  },
  {
   "cell_type": "code",
   "execution_count": 6,
   "id": "2c8cff80-fb64-4af3-92d1-ee4482cd0468",
   "metadata": {},
   "outputs": [
    {
     "name": "stdout",
     "output_type": "stream",
     "text": [
      "Dataset URL: https://www.kaggle.com/datasets/ankitbansal06/retail-orders\n",
      "License(s): CC0-1.0\n",
      "Downloading orders.csv.zip to C:\\Users\\jeple\\Documents\\Github\\RetailOrder-DA-Project\n",
      "\n"
     ]
    },
    {
     "name": "stderr",
     "output_type": "stream",
     "text": [
      "\n",
      "  0%|          | 0.00/200k [00:00<?, ?B/s]\n",
      "100%|##########| 200k/200k [00:00<00:00, 229kB/s]\n",
      "100%|##########| 200k/200k [00:00<00:00, 229kB/s]\n"
     ]
    }
   ],
   "source": [
    "import kaggle\n",
    "!kaggle datasets download ankitbansal06/retail-orders -f orders.csv"
   ]
  },
  {
   "cell_type": "code",
   "execution_count": null,
   "id": "bd275ccb-dc73-483a-bf18-2c727f42a092",
   "metadata": {},
   "outputs": [],
   "source": []
  }
 ],
 "metadata": {
  "kernelspec": {
   "display_name": "Python 3 (ipykernel)",
   "language": "python",
   "name": "python3"
  },
  "language_info": {
   "codemirror_mode": {
    "name": "ipython",
    "version": 3
   },
   "file_extension": ".py",
   "mimetype": "text/x-python",
   "name": "python",
   "nbconvert_exporter": "python",
   "pygments_lexer": "ipython3",
   "version": "3.12.2"
  }
 },
 "nbformat": 4,
 "nbformat_minor": 5
}
